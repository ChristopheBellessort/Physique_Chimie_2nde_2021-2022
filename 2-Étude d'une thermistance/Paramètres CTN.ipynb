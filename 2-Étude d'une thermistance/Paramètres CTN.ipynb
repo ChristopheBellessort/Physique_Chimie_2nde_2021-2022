{
 "cells": [
  {
   "cell_type": "markdown",
   "metadata": {},
   "source": [
    "# Détermination des paramètres de la thermistance CTN #"
   ]
  },
  {
   "cell_type": "markdown",
   "metadata": {},
   "source": [
    "<div class=\"alert alert-info\">\n",
    "\n",
    "<img alt=\"CTN\" width=\"200px\" src=\"https://christophebellessort.canoprof.fr/eleve/ImagesPubliques/Seconde/ThermistanceCTN.JPG\" align=\"right\">\n",
    "Pour une thermistance, la relation entre la température et la valeur de la résistance dépend notamment de deux paramètres A et B qu'il faut déterminer pour relier par le calcul la valeur de la résistance et la température mesurée.<br>\n",
    "Il s'agit ici d'utiliser un programme en Python afin d'obtenir les valeurs des coefficients A et B à partir des mesures expérimentales.\n",
    "</div>"
   ]
  },
  {
   "cell_type": "markdown",
   "metadata": {},
   "source": [
    "<div class=\"alert alert-warning\">\n",
    "    \n",
    "Cette page contient des cellules de programme en Python.<br>\n",
    "Pour les exécuter : cliquer sur la cellule et utiliser la combinaison de touches **MAJ + ENTRÉE**. <br>"
   ]
  },
  {
   "cell_type": "markdown",
   "metadata": {},
   "source": [
    "<div class=\"alert alert-info\">\n",
    "\n",
    "## Utilisation ##\n",
    "\n",
    "1. Vous devez disposer de vos mesures enregistrées au format csv comme indiqué dans la fiche de travaux pratiques.\n",
    "2. Nommer le fichier de mesures **CTN.csv**.\n",
    "3. Déposez-le dans le même dossier en ligne que celui où se trouve ce programme en suivant si besoin la procédure en cliquant ici <a href=\"https://pod.ac-normandie.fr/video/20152-exploitation-dun-fichier-de-mesures-dans-un-notebook-jupyter/\" rel=\"tutoriel vidéo\"><img src=\"https://christophebellessort.canoprof.fr/eleve/ImagesPubliques/IconesTilda/Tilda_Icons_18vp_film.png\" align = \"middle\" width=\"30\" /></a><br>\n",
    "    \n",
    "Une fois le fichier de mesure déposé, vous pouvez exécuter le programme ci-dessous.\n",
    "</div>"
   ]
  },
  {
   "cell_type": "code",
   "execution_count": null,
   "metadata": {},
   "outputs": [],
   "source": [
    "#!/usr/bin/env python3\n",
    "# -*- coding: utf-8 -*-\n",
    "\"\"\"\n",
    "Ce programme vous est fourni pour exploiter le fichier de mesures réalisé en TP.\n",
    "Il contient des commentaires afin que vous puissiez comprendre ce qu'il fait.\n",
    "Dans un premier temps, vous n'avez rien à modifier pour le faire fonctionner.\n",
    "\"\"\"\n",
    "from math import e  # Importation de la fonction exponentielle\n",
    "\n",
    "import numpy as np  # Instruction d'importation du ficher csv\n",
    "\n",
    "# Bibliothèque graphique pour tracer les courbes et placer les points de mesure\n",
    "import matplotlib.pyplot as plt\n",
    "\n",
    "# Importation de la fonction de recherche du modèle.\n",
    "from scipy.optimize import curve_fit\n",
    "\n",
    "%matplotlib widget\n",
    "\n",
    "# On importe les valeurs de la température T en kelvin et la résistance R en ohm.\n",
    "T, R = np.loadtxt(\"CTN.csv\", skiprows=1, delimiter=\";\", unpack=True, usecols=(1, 3))\n",
    "\"\"\" Le ; est le séparateur des valeurs\n",
    "La première colonne du fichier porte le numéro 0\n",
    "On importe donc avec usecols les colonnes 2 et 4 du fichier.\n",
    "Les valeurs sont importées dans deux listes T et R pour la température et la\n",
    "résistance.\n",
    "\"\"\"\n",
    "\n",
    "\"\"\" On définit ci-dessous la fonction Python qui calcule la résistance\n",
    "en fonction de la température.\n",
    "A et B sont les paramètres qui seront déterminés par le programme\"\"\"\n",
    "\n",
    "\n",
    "def Rctn(T, A, B):\n",
    "    return A * e ** (B / T)\n",
    "\n",
    "\n",
    "# On stocke le résultat de la modélisation dans une liste (parametres)\n",
    "coeff, cov = curve_fit(Rctn, T, R)  # cov n'est pas exploité dans notre activité.\n",
    "# coeff contient les valeurs des paramètres A et B.\n",
    "\n",
    "\"\"\" Ci-dessous les deux listes température et résistance qui permettront de tracer\n",
    "la représentation de la modélisation.\"\"\"\n",
    "\n",
    "Tmod = np.array([])\n",
    "for i in range(100):\n",
    "    Tmod = np.append(Tmod, min(T) + i * (max(T) - min(T)) / 100)\n",
    "\n",
    "Rmod = Rctn(Tmod, coeff[0], coeff[1])\n",
    "\n",
    "\"\"\"Construction de la représentation graphique avec :\n",
    "    - les points expérimentaux\n",
    "    - la courbe modèle\n",
    "    - l'équation mathématique de la courbe\n",
    "\"\"\"\n",
    "\n",
    "plt.figure(1)  # Numéro de la représentation graphique\n",
    "plt.title(\n",
    "    \"Variations de la résistance en fonction de la température selon le modèle $R = A \\cdot e^{\\dfrac{B}{T}}$\"\n",
    ")  # Titre de la représentation graphique\n",
    "plt.scatter(\n",
    "    T, R, marker=\"+\", color=\"blue\", label=\"Points de mesure\"\n",
    ")  # On place les points expérimentaux\n",
    "plt.plot(\n",
    "    Tmod, Rmod, color=\"red\", label=f\"Modélisation A={coeff[0]:.3e} --- B={coeff[1]:.3e}\"\n",
    ")  # On trace la courbe modélisée\n",
    "plt.ylabel(f\"Résistance $(\\Omega)$\")\n",
    "plt.xlabel(\"Température (K)\")\n",
    "plt.legend()\n",
    "plt.grid()\n",
    "plt.show()"
   ]
  },
  {
   "cell_type": "markdown",
   "metadata": {},
   "source": [
    "<div class=\"alert alert-success\">\n",
    "<details>\n",
    "\n",
    "<summary>\n",
    "    \n",
    "**Déroulez cette cellule pour des coups de pouce**\n",
    "\n",
    "1. Notez dans votre cahier de TP les valeurs des paramètres A et B donnés par le programme.\n",
    "2. Par lecture graphique et en utilisant si besoin les outils de zoom donnez la valeur de la résistance pour une température de *310 K*.\n",
    "3. Même question pour une température de *25 °C*.\n",
    "4. Quelle serait la valeur de la résistance d'après votre loi pour une température de *70 °C* ?\n",
    "</summary>\n",
    "    \n",
    "L'outil zoom rectangulaire permet de gagner en précision de lecture sur une zone du graphique. <img alt=\"Barre d'outils graphiques\" src=\"https://christophebellessort.canoprof.fr/eleve/ImagesPubliques/Seconde/Outil_zoom.png\" align=\"middle\">\n",
    "<br>\n",
    "Pour la question n°3 : convertir la température de °C à K (voir relation dans la feuille de TP).<br>\n",
    "Pour la question n°4 : la lecture graphique est impossible, il faut utiliser l'expression mathématique comme dans le I de la fiche de TP.\n",
    "</details>\n",
    "</div>\n",
    "\n",
    "    \n",
    "    "
   ]
  },
  {
   "cell_type": "code",
   "execution_count": null,
   "metadata": {},
   "outputs": [],
   "source": []
  }
 ],
 "metadata": {
  "kernelspec": {
   "display_name": "Python 3",
   "language": "python",
   "name": "python3"
  },
  "language_info": {
   "codemirror_mode": {
    "name": "ipython",
    "version": 3
   },
   "file_extension": ".py",
   "mimetype": "text/x-python",
   "name": "python",
   "nbconvert_exporter": "python",
   "pygments_lexer": "ipython3",
   "version": "3.8.10"
  }
 },
 "nbformat": 4,
 "nbformat_minor": 4
}
